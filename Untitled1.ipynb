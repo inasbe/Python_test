{
 "cells": [
  {
   "cell_type": "code",
   "execution_count": null,
   "id": "7c267b33-df6a-41f1-8683-31c58653e819",
   "metadata": {},
   "outputs": [
    {
     "name": "stdout",
     "output_type": "stream",
     "text": [
      "please enter a number 0\n"
     ]
    },
    {
     "name": "stdout",
     "output_type": "stream",
     "text": [
      "the number provided is wrong\n"
     ]
    },
    {
     "name": "stdout",
     "output_type": "stream",
     "text": [
      "please provide a number less than 100 3\n"
     ]
    },
    {
     "name": "stdout",
     "output_type": "stream",
     "text": [
      "pi to 0 is 3.142\n"
     ]
    }
   ],
   "source": [
    "#Find PI to the Nth Digit - Enter a number and have the program generate PI up to that many decimal places. \n",
    "#Keep a limit to how far the program will go.\n",
    "\n",
    "import math\n",
    "def pi(n):\n",
    "    while n<=0 or n>100:\n",
    "        print(\"the number provided is wrong\")\n",
    "        n=int(input(\"please provide a positive number less than 100\"))\n",
    "        print('test')\n",
    "    return round(math.pi,n)\n",
    "\n",
    "try:\n",
    "    n=int(input(\"please enter a number\"))\n",
    "    print(f\"pi to {n} is {pi(n)}\")\n",
    "except:\n",
    "    print(\"please provide an integer\")\n",
    "    "
   ]
  },
  {
   "cell_type": "code",
   "execution_count": 28,
   "id": "e5cce06c-6321-41bd-a0a2-c75302c0e914",
   "metadata": {},
   "outputs": [
    {
     "data": {
      "text/plain": [
       "3.141593"
      ]
     },
     "execution_count": 28,
     "metadata": {},
     "output_type": "execute_result"
    }
   ],
   "source": [
    "pi(6)"
   ]
  },
  {
   "cell_type": "code",
   "execution_count": 30,
   "id": "4811b90d-35da-483e-a3d7-68255e50572e",
   "metadata": {},
   "outputs": [
    {
     "name": "stdout",
     "output_type": "stream",
     "text": [
      "the number provided is wrong\n"
     ]
    },
    {
     "name": "stdout",
     "output_type": "stream",
     "text": [
      "please provide a number less than 100 3\n"
     ]
    },
    {
     "data": {
      "text/plain": [
       "3.142"
      ]
     },
     "execution_count": 30,
     "metadata": {},
     "output_type": "execute_result"
    }
   ],
   "source": [
    "pi(120)"
   ]
  },
  {
   "cell_type": "code",
   "execution_count": null,
   "id": "7212887f-9abc-4196-936a-25877548bb00",
   "metadata": {},
   "outputs": [],
   "source": []
  },
  {
   "cell_type": "code",
   "execution_count": 6,
   "id": "44cbf849-97d5-4f1b-8455-be20c11f530d",
   "metadata": {},
   "outputs": [
    {
     "data": {
      "text/plain": [
       "3.14159"
      ]
     },
     "execution_count": 6,
     "metadata": {},
     "output_type": "execute_result"
    }
   ],
   "source": [
    "pi(5)\n"
   ]
  },
  {
   "cell_type": "code",
   "execution_count": 2,
   "id": "140473ab-b7a0-4fd8-bcf9-80c5b6bd6686",
   "metadata": {},
   "outputs": [
    {
     "data": {
      "text/plain": [
       "3.141592653589793"
      ]
     },
     "execution_count": 2,
     "metadata": {},
     "output_type": "execute_result"
    }
   ],
   "source": [
    "import math\n",
    "math.pi"
   ]
  },
  {
   "cell_type": "code",
   "execution_count": null,
   "id": "3e0bbed8-0ebf-4462-9a91-12d6878c6e2b",
   "metadata": {},
   "outputs": [],
   "source": []
  },
  {
   "cell_type": "code",
   "execution_count": null,
   "id": "443faa6c-1f1b-46a5-bd23-657b9d3e4023",
   "metadata": {},
   "outputs": [],
   "source": []
  },
  {
   "cell_type": "code",
   "execution_count": null,
   "id": "83bf71c0-c8a7-4528-aa8e-93c30de450eb",
   "metadata": {},
   "outputs": [],
   "source": []
  },
  {
   "cell_type": "code",
   "execution_count": null,
   "id": "0c98fadf-6a36-472f-a7da-76ff537fe7bb",
   "metadata": {},
   "outputs": [],
   "source": []
  }
 ],
 "metadata": {
  "kernelspec": {
   "display_name": "Python [conda env:base] *",
   "language": "python",
   "name": "conda-base-py"
  },
  "language_info": {
   "codemirror_mode": {
    "name": "ipython",
    "version": 3
   },
   "file_extension": ".py",
   "mimetype": "text/x-python",
   "name": "python",
   "nbconvert_exporter": "python",
   "pygments_lexer": "ipython3",
   "version": "3.12.7"
  }
 },
 "nbformat": 4,
 "nbformat_minor": 5
}
